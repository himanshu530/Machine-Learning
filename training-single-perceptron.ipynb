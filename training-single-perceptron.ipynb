{
 "cells": [
  {
   "cell_type": "code",
   "execution_count": 15,
   "metadata": {},
   "outputs": [],
   "source": [
    "import numpy as np \n",
    "import matplotlib.pyplot as plt\n",
    "from sklearn.datasets import make_blobs"
   ]
  },
  {
   "cell_type": "code",
   "execution_count": 5,
   "metadata": {},
   "outputs": [
    {
     "name": "stdout",
     "output_type": "stream",
     "text": [
      "(500, 2) (500,)\n"
     ]
    }
   ],
   "source": [
    "## Generating data\n",
    "X,Y = make_blobs(n_samples=500, n_features=2,centers=2, random_state=10)\n",
    "print(X.shape,Y.shape)"
   ]
  },
  {
   "cell_type": "code",
   "execution_count": 6,
   "metadata": {},
   "outputs": [
    {
     "data": {
      "image/png": "[encoded data removed]",
      "text/plain": [
       "<Figure size 432x288 with 1 Axes>"
      ]
     },
     "metadata": {
      "needs_background": "light"
     },
     "output_type": "display_data"
    }
   ],
   "source": [
    "plt.scatter(X[:,0],X[:,1],c=Y)\n",
    "plt.show()"
   ]
  },
  {
   "cell_type": "code",
   "execution_count": 7,
   "metadata": {},
   "outputs": [],
   "source": [
    "## Model and helper functions\n"
   ]
  },
  {
   "cell_type": "code",
   "execution_count": 8,
   "metadata": {},
   "outputs": [],
   "source": [
    "def sigmoid(z):\n",
    "    return (1.0)/(1+np.exp(-z))"
   ]
  },
  {
   "cell_type": "code",
   "execution_count": 9,
   "metadata": {},
   "outputs": [
    {
     "data": {
      "text/plain": [
       "0.9933071490757153"
      ]
     },
     "execution_count": 9,
     "metadata": {},
     "output_type": "execute_result"
    }
   ],
   "source": [
    "sigmoid(5)"
   ]
  },
  {
   "cell_type": "code",
   "execution_count": 10,
   "metadata": {},
   "outputs": [],
   "source": [
    "#implement perceptron learning algorithm \n",
    "# 1. Learn the weights\n",
    "# 2. Reduce the loss\n",
    "# 3. Make the predictions = sigmoid(z), z = Wt.X"
   ]
  },
  {
   "cell_type": "code",
   "execution_count": 16,
   "metadata": {},
   "outputs": [],
   "source": [
    "def predict(X,weights):\n",
    "    z = np.dot(X,weights)\n",
    "    predictions = sigmoid(z)\n",
    "    return predictions\n",
    "\n",
    "def loss(X,Y,weights):\n",
    "    \"\"\" Binary cross entropy i.e log loss\"\"\"\n",
    "    Y_ = predict(X,weights)\n",
    "    cost = np.mean(-Y*np.log(Y_)-(1-Y)*np.log(1-Y_))\n",
    "    return cost\n",
    "\n",
    "def update(X,Y,weights,learning_rate):\n",
    "    \"\"\" Perform Update for one epoch\"\"\"\n",
    "    Y_ = predict(X,weights)\n",
    "    dw = np.dot(X.T,Y_ - Y)\n",
    "    \n",
    "    m = X.shape[0]\n",
    "    weights = weights - learning_rate*dw/(float(m))\n",
    "    \n",
    "    return weights \n",
    "\n",
    "    \n",
    "def train(X,Y,learning_rate=0.5,maxEpochs=100):\n",
    "    ones = np.ones((X.shape[0],1))\n",
    "    X = np.hstack((ones,X))\n",
    "    \n",
    "    \n",
    "    weights =np.zeros(X.shape[1])\n",
    "    \n",
    "    # Iterate and make updates\n",
    "    \n",
    "    for epoch in range(maxEpochs):\n",
    "        weights = update(X,Y,weights,learning_rate)\n",
    "        if epoch%10==0:\n",
    "            l = loss(X,Y,weights)\n",
    "            print(\"Epoch %d Loss %.4f\"%(epoch,l))\n",
    "            \n",
    "    \n",
    "    return weights\n",
    "            \n",
    "    \n",
    "    \n",
    "    "
   ]
  },
  {
   "cell_type": "code",
   "execution_count": 17,
   "metadata": {},
   "outputs": [
    {
     "name": "stdout",
     "output_type": "stream",
     "text": [
      "Epoch 0 Loss 0.0006\n",
      "Epoch 10 Loss 0.0005\n",
      "Epoch 20 Loss 0.0005\n",
      "Epoch 30 Loss 0.0005\n",
      "Epoch 40 Loss 0.0005\n",
      "Epoch 50 Loss 0.0004\n",
      "Epoch 60 Loss 0.0004\n",
      "Epoch 70 Loss 0.0004\n",
      "Epoch 80 Loss 0.0004\n",
      "Epoch 90 Loss 0.0004\n"
     ]
    },
    {
     "data": {
      "text/plain": [
       "array([ 0.02204952, -0.30768518,  1.90003958])"
      ]
     },
     "execution_count": 17,
     "metadata": {},
     "output_type": "execute_result"
    }
   ],
   "source": [
    "train(X,Y)"
   ]
  },
  {
   "cell_type": "code",
   "execution_count": 26,
   "metadata": {},
   "outputs": [
    {
     "name": "stdout",
     "output_type": "stream",
     "text": [
      "Epoch 0 Loss 0.0006\n",
      "Epoch 10 Loss 0.0005\n",
      "Epoch 20 Loss 0.0005\n",
      "Epoch 30 Loss 0.0005\n",
      "Epoch 40 Loss 0.0005\n",
      "Epoch 50 Loss 0.0004\n",
      "Epoch 60 Loss 0.0004\n",
      "Epoch 70 Loss 0.0004\n",
      "Epoch 80 Loss 0.0004\n",
      "Epoch 90 Loss 0.0004\n",
      "Epoch 100 Loss 0.0004\n",
      "Epoch 110 Loss 0.0003\n",
      "Epoch 120 Loss 0.0003\n",
      "Epoch 130 Loss 0.0003\n",
      "Epoch 140 Loss 0.0003\n",
      "Epoch 150 Loss 0.0003\n",
      "Epoch 160 Loss 0.0003\n",
      "Epoch 170 Loss 0.0003\n",
      "Epoch 180 Loss 0.0003\n",
      "Epoch 190 Loss 0.0003\n",
      "Epoch 200 Loss 0.0003\n",
      "Epoch 210 Loss 0.0003\n",
      "Epoch 220 Loss 0.0002\n",
      "Epoch 230 Loss 0.0002\n",
      "Epoch 240 Loss 0.0002\n",
      "Epoch 250 Loss 0.0002\n",
      "Epoch 260 Loss 0.0002\n",
      "Epoch 270 Loss 0.0002\n",
      "Epoch 280 Loss 0.0002\n",
      "Epoch 290 Loss 0.0002\n",
      "Epoch 300 Loss 0.0002\n",
      "Epoch 310 Loss 0.0002\n",
      "Epoch 320 Loss 0.0002\n",
      "Epoch 330 Loss 0.0002\n",
      "Epoch 340 Loss 0.0002\n",
      "Epoch 350 Loss 0.0002\n",
      "Epoch 360 Loss 0.0002\n",
      "Epoch 370 Loss 0.0002\n",
      "Epoch 380 Loss 0.0002\n",
      "Epoch 390 Loss 0.0002\n",
      "Epoch 400 Loss 0.0002\n",
      "Epoch 410 Loss 0.0002\n",
      "Epoch 420 Loss 0.0002\n",
      "Epoch 430 Loss 0.0002\n",
      "Epoch 440 Loss 0.0002\n",
      "Epoch 450 Loss 0.0002\n",
      "Epoch 460 Loss 0.0002\n",
      "Epoch 470 Loss 0.0002\n",
      "Epoch 480 Loss 0.0001\n",
      "Epoch 490 Loss 0.0001\n",
      "[ 0.0656045  -0.19220497  2.05528664]\n"
     ]
    }
   ],
   "source": [
    "weights =  train(X,Y,maxEpochs=500)\n",
    "print(weights)"
   ]
  },
  {
   "cell_type": "code",
   "execution_count": 20,
   "metadata": {},
   "outputs": [],
   "source": [
    "# loss is less because dataset is linearly seperable"
   ]
  },
  {
   "cell_type": "code",
   "execution_count": 21,
   "metadata": {},
   "outputs": [],
   "source": [
    "def getPredictions(X_Test,weights,labels=True):\n",
    "    if X_Test.shape[1]!=weights.shape[0]:\n",
    "        ones = np.ones((X_Test.shape[0],1))\n",
    "        X_Test = np.hstack((ones,X_Test))\n",
    "    \n",
    "    probs = predict(X_Test,weights)\n",
    "    \n",
    "    if not labels:\n",
    "        return probs\n",
    "    else:\n",
    "        labels = np.zeros(probs.shape)\n",
    "        labesl[probs>=.5] = 1\n",
    "        return labels"
   ]
  },
  {
   "cell_type": "code",
   "execution_count": 29,
   "metadata": {},
   "outputs": [
    {
     "name": "stdout",
     "output_type": "stream",
     "text": [
      "[-8.         -7.58974359 -7.17948718 -6.76923077 -6.35897436 -5.94871795\n",
      " -5.53846154 -5.12820513 -4.71794872 -4.30769231 -3.8974359  -3.48717949\n",
      " -3.07692308 -2.66666667 -2.25641026 -1.84615385 -1.43589744 -1.02564103\n",
      " -0.61538462 -0.20512821  0.20512821  0.61538462  1.02564103  1.43589744\n",
      "  1.84615385  2.25641026  2.66666667  3.07692308  3.48717949  3.8974359\n",
      "  4.30769231  4.71794872  5.12820513  5.53846154  5.94871795  6.35897436\n",
      "  6.76923077  7.17948718  7.58974359  8.        ]\n",
      "[-0.7800587  -0.74169261 -0.70332652 -0.66496042 -0.62659433 -0.58822824\n",
      " -0.54986214 -0.51149605 -0.47312996 -0.43476386 -0.39639777 -0.35803167\n",
      " -0.31966558 -0.28129949 -0.24293339 -0.2045673  -0.16620121 -0.12783511\n",
      " -0.08946902 -0.05110293 -0.01273683  0.02562926  0.06399535  0.10236145\n",
      "  0.14072754  0.17909363  0.21745973  0.25582582  0.29419191  0.33255801\n",
      "  0.3709241   0.4092902   0.44765629  0.48602238  0.52438848  0.56275457\n",
      "  0.60112066  0.63948676  0.67785285  0.71621894]\n"
     ]
    }
   ],
   "source": [
    "x1 = np.linspace(-8,8,40)\n",
    "print(x1)\n",
    "\n",
    "x2 = -(weights[0] + weights[1]*x1)/weights[2]\n",
    "print(x2)"
   ]
  },
  {
   "cell_type": "code",
   "execution_count": 30,
   "metadata": {},
   "outputs": [
    {
     "data": {
      "image/png": "[encoded data removed]",
      "text/plain": [
       "<Figure size 432x288 with 1 Axes>"
      ]
     },
     "metadata": {
      "needs_background": "light"
     },
     "output_type": "display_data"
    }
   ],
   "source": [
    "plt.scatter(X[:,0],X[:,1],c = Y)\n",
    "plt.plot(x1,x2,c = \"red\")\n",
    "plt.show()"
   ]
  },
  {
   "cell_type": "code",
   "execution_count": null,
   "metadata": {},
   "outputs": [],
   "source": []
  }
 ],
 "metadata": {
  "kernelspec": {
   "display_name": "Python 3",
   "language": "python",
   "name": "python3"
  },
  "language_info": {
   "codemirror_mode": {
    "name": "ipython",
    "version": 3
   },
   "file_extension": ".py",
   "mimetype": "text/x-python",
   "name": "python",
   "nbconvert_exporter": "python",
   "pygments_lexer": "ipython3",
   "version": "3.8.3"
  }
 },
 "nbformat": 4,
 "nbformat_minor": 4
}
