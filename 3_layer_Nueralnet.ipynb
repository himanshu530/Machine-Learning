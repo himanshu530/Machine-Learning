{
  "nbformat": 4,
  "nbformat_minor": 0,
  "metadata": {
    "colab": {
      "name": "3_layer_Nueralnet.ipynb",
      "provenance": [],
      "authorship_tag": "ABX9TyOwHDdO7q8dF5LCaQ8vYp/N",
      "include_colab_link": true
    },
    "kernelspec": {
      "name": "python3",
      "display_name": "Python 3"
    },
    "language_info": {
      "name": "python"
    }
  },
  "cells": [
    {
      "cell_type": "markdown",
      "metadata": {
        "id": "view-in-github",
        "colab_type": "text"
      },
      "source": [
        "<a href=\"https://colab.research.google.com/github/himanshu530/Machine-Learning/blob/master/3_layer_Nueralnet.ipynb\" target=\"_parent\"><img src=\"https://colab.research.google.com/assets/colab-badge.svg\" alt=\"Open In Colab\"/></a>"
      ]
    },
    {
      "cell_type": "markdown",
      "metadata": {
        "id": "QhCOG5jykoTB"
      },
      "source": [
        "Implementing a 3 layer Architecture(Deep Nueral Net)"
      ]
    },
    {
      "cell_type": "code",
      "metadata": {
        "id": "gtpChcGulMR0"
      },
      "source": [
        "import numpy as np"
      ],
      "execution_count": 2,
      "outputs": []
    },
    {
      "cell_type": "code",
      "metadata": {
        "id": "WCVtMS3BkgaC"
      },
      "source": [
        "#Model Parameters\n",
        "input_size = 3  # no_of_features\n",
        "layers = [4,3]  #no of nuerons in first and second layer\n",
        "\n",
        "output_size = 2\n"
      ],
      "execution_count": 5,
      "outputs": []
    },
    {
      "cell_type": "code",
      "metadata": {
        "id": "CnZIrEdvtCaE"
      },
      "source": [
        "def softmax(a):\n",
        "  e_pa = np.exp(a)\n",
        "\n",
        "  ans = e_pa/np.sum(e_pa,axis=1,keepdims=True)\n",
        "  return ans\n",
        "\n"
      ],
      "execution_count": 4,
      "outputs": []
    },
    {
      "cell_type": "code",
      "metadata": {
        "id": "Q3TnF-rqk_iY"
      },
      "source": [
        "class NueralNetwork:\n",
        "\n",
        "  def __init__(self,input_size,layers,output_size):\n",
        "    np.random.seed(0)\n",
        "\n",
        "    model = {}\n",
        "\n",
        "    #layer 1\n",
        "\n",
        "    model['W1'] = np.random.randn(input_size,layers[0]) #creates a 2X4 matrix\n",
        "    model['b1'] = np.zeros(1,layers[0])\n",
        "\n",
        "    #layer2\n",
        "\n",
        "    model['W2'] = np.random.randn(layers[0],layers[1]) \n",
        "    model['b2'] = np.zeros(1,layers[1])\n",
        "\n",
        "    #layer3 / output layers\n",
        "\n",
        "    model['W3'] = np.random.randn(layers[1],output_size) \n",
        "    model['b3'] = np.zeros(1,output_size)\n",
        "\n",
        "    self.model = model\n",
        "\n",
        "  def forward(self,x):\n",
        "\n",
        "    W1,W2,W3 = self.model['W1'],self.model['W2'],self.model['W3']\n",
        "    b1,b2,b3 = self.model['b1'],self.model['b2'],self.model['b3']\n",
        "\n",
        "    z1 = np.dot(x,W1)+b1\n",
        "    a1 = np.tanh(z1) # squeezes the output in the range of -1,1\n",
        "\n",
        "    z2 = np.dot(a1,W2) + b2;\n",
        "    a2 = np.tanh(z2)\n",
        "\n",
        "    z3 = np.dot(a2,W3) + b3\n",
        "    y_ = softmax(z3)   # output\n",
        "\n",
        "\n",
        "\n"
      ],
      "execution_count": 7,
      "outputs": []
    },
    {
      "cell_type": "code",
      "metadata": {
        "id": "8fGvv-HUuT-X"
      },
      "source": [
        ""
      ],
      "execution_count": null,
      "outputs": []
    }
  ]
}